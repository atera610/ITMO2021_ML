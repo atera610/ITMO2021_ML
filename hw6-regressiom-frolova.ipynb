{
 "cells": [
  {
   "cell_type": "markdown",
   "id": "d0a72598",
   "metadata": {
    "papermill": {
     "duration": 0.010714,
     "end_time": "2021-10-29T04:36:26.785872",
     "exception": false,
     "start_time": "2021-10-29T04:36:26.775158",
     "status": "completed"
    },
    "tags": []
   },
   "source": [
    "# Линейная регрессия\n",
    "__Суммарное количество баллов: 10__\n"
   ]
  },
  {
   "cell_type": "code",
   "execution_count": 1,
   "id": "a5196dde",
   "metadata": {
    "execution": {
     "iopub.execute_input": "2021-10-29T04:36:26.819774Z",
     "iopub.status.busy": "2021-10-29T04:36:26.818929Z",
     "iopub.status.idle": "2021-10-29T04:36:27.873135Z",
     "shell.execute_reply": "2021-10-29T04:36:27.872256Z"
    },
    "papermill": {
     "duration": 1.077297,
     "end_time": "2021-10-29T04:36:27.873314",
     "exception": false,
     "start_time": "2021-10-29T04:36:26.796017",
     "status": "completed"
    },
    "tags": []
   },
   "outputs": [],
   "source": [
    "from sklearn.datasets import make_blobs, make_moons\n",
    "from sklearn.model_selection import train_test_split\n",
    "import numpy as np\n",
    "import random\n",
    "import matplotlib.pyplot as plt\n",
    "import matplotlib\n",
    "import copy"
   ]
  },
  {
   "cell_type": "code",
   "execution_count": 2,
   "id": "6df03bd5",
   "metadata": {
    "execution": {
     "iopub.execute_input": "2021-10-29T04:36:27.899982Z",
     "iopub.status.busy": "2021-10-29T04:36:27.899297Z",
     "iopub.status.idle": "2021-10-29T04:36:27.901696Z",
     "shell.execute_reply": "2021-10-29T04:36:27.902161Z"
    },
    "papermill": {
     "duration": 0.018639,
     "end_time": "2021-10-29T04:36:27.902334",
     "exception": false,
     "start_time": "2021-10-29T04:36:27.883695",
     "status": "completed"
    },
    "tags": []
   },
   "outputs": [],
   "source": [
    "def generate_synthetic(size, dim=6, noise=0.1):\n",
    "    X = np.random.randn(size, dim)\n",
    "    w = np.random.randn(dim + 1)\n",
    "    noise = noise * np.random.randn(size)\n",
    "    y = X.dot(w[1:]) + w[0] + noise\n",
    "    return X, y"
   ]
  },
  {
   "cell_type": "markdown",
   "id": "12321e1c",
   "metadata": {
    "papermill": {
     "duration": 0.009541,
     "end_time": "2021-10-29T04:36:27.924027",
     "exception": false,
     "start_time": "2021-10-29T04:36:27.914486",
     "status": "completed"
    },
    "tags": []
   },
   "source": [
    "#### Метрика\n",
    "Для начала нужно понять, какую метрику для ошибки будем использовать. В нашем случае нам подойдет стандартная метрика RMSE. Ее и нужно реализовать."
   ]
  },
  {
   "cell_type": "code",
   "execution_count": 3,
   "id": "8f15141d",
   "metadata": {
    "execution": {
     "iopub.execute_input": "2021-10-29T04:36:27.949243Z",
     "iopub.status.busy": "2021-10-29T04:36:27.945887Z",
     "iopub.status.idle": "2021-10-29T04:36:27.951019Z",
     "shell.execute_reply": "2021-10-29T04:36:27.951529Z"
    },
    "papermill": {
     "duration": 0.017908,
     "end_time": "2021-10-29T04:36:27.951693",
     "exception": false,
     "start_time": "2021-10-29T04:36:27.933785",
     "status": "completed"
    },
    "tags": []
   },
   "outputs": [],
   "source": [
    "def rmse(y_true, y_predicted):\n",
    "     return (1/len(y_true) * sum((y_predicted - y_true) ** 2)) ** 0.5"
   ]
  },
  {
   "cell_type": "markdown",
   "id": "2c1ac86c",
   "metadata": {
    "papermill": {
     "duration": 0.00957,
     "end_time": "2021-10-29T04:36:27.971562",
     "exception": false,
     "start_time": "2021-10-29T04:36:27.961992",
     "status": "completed"
    },
    "tags": []
   },
   "source": [
    "\n",
    "Теперь реализуем линейную регрессию при помощи явного решения задачи минимизации. \n",
    "\n",
    "#### Методы\n",
    "`fit(X, y)` - решает задачу минимизации $\\arg\\min_{w, b}\\sum ((w\\cdot x + b) - y)^2$. \n",
    "\n",
    "`predict(X)` - строит предсказание `y` для объектов из `X`."
   ]
  },
  {
   "cell_type": "code",
   "execution_count": 4,
   "id": "48f80f56",
   "metadata": {
    "execution": {
     "iopub.execute_input": "2021-10-29T04:36:27.994900Z",
     "iopub.status.busy": "2021-10-29T04:36:27.994234Z",
     "iopub.status.idle": "2021-10-29T04:36:28.001645Z",
     "shell.execute_reply": "2021-10-29T04:36:28.002140Z"
    },
    "papermill": {
     "duration": 0.02091,
     "end_time": "2021-10-29T04:36:28.002304",
     "exception": false,
     "start_time": "2021-10-29T04:36:27.981394",
     "status": "completed"
    },
    "tags": []
   },
   "outputs": [],
   "source": [
    "from numpy.linalg import linalg\n",
    "\n",
    "\n",
    "class NormalLR:\n",
    "    def __init__(self, alpha):\n",
    "        self.alpha = alpha\n",
    "        self.w = None\n",
    "\n",
    "    def fit(self, X, y):\n",
    "        X = np.hstack((X, np.ones((X.shape[0], 1))))\n",
    "        X_tr = np.transpose(X)\n",
    "        self.w = np.matmul(np.matmul(linalg.inv(np.matmul(X_tr,X) + self.alpha * np.identity(X.shape[1])), X_tr), y)\n",
    "\n",
    "    def predict(self, X):\n",
    "        X = np.hstack((X, np.ones((X.shape[0], 1))))\n",
    "        return np.matmul(X, self.w)"
   ]
  },
  {
   "cell_type": "code",
   "execution_count": 5,
   "id": "96e9b72c",
   "metadata": {
    "execution": {
     "iopub.execute_input": "2021-10-29T04:36:28.027949Z",
     "iopub.status.busy": "2021-10-29T04:36:28.027280Z",
     "iopub.status.idle": "2021-10-29T04:36:28.033081Z",
     "shell.execute_reply": "2021-10-29T04:36:28.032553Z"
    },
    "papermill": {
     "duration": 0.02033,
     "end_time": "2021-10-29T04:36:28.033234",
     "exception": false,
     "start_time": "2021-10-29T04:36:28.012904",
     "status": "completed"
    },
    "tags": []
   },
   "outputs": [],
   "source": [
    "X, y = generate_synthetic(1024)\n",
    "X_train, X_test, y_train, y_test = train_test_split(X, y, train_size=0.8)"
   ]
  },
  {
   "cell_type": "code",
   "execution_count": 6,
   "id": "8f13ba02",
   "metadata": {
    "execution": {
     "iopub.execute_input": "2021-10-29T04:36:28.070274Z",
     "iopub.status.busy": "2021-10-29T04:36:28.069616Z",
     "iopub.status.idle": "2021-10-29T04:36:28.076203Z",
     "shell.execute_reply": "2021-10-29T04:36:28.077268Z"
    },
    "papermill": {
     "duration": 0.033791,
     "end_time": "2021-10-29T04:36:28.077556",
     "exception": false,
     "start_time": "2021-10-29T04:36:28.043765",
     "status": "completed"
    },
    "tags": []
   },
   "outputs": [
    {
     "name": "stdout",
     "output_type": "stream",
     "text": [
      "0.10166961152302144\n"
     ]
    }
   ],
   "source": [
    "regr = NormalLR(0.01)\n",
    "regr.fit(X_train, y_train)\n",
    "print(rmse(y_test, regr.predict(X_test)))"
   ]
  },
  {
   "cell_type": "markdown",
   "id": "a6f61445",
   "metadata": {
    "papermill": {
     "duration": 0.018945,
     "end_time": "2021-10-29T04:36:28.116557",
     "exception": false,
     "start_time": "2021-10-29T04:36:28.097612",
     "status": "completed"
    },
    "tags": []
   },
   "source": [
    "1. Выполните загрузку и предобработку файлов x_boston_train и y_boston_train.\n",
    "2. Разбейте x_boston_train и y_boston_train на x_train, y_train, x_test и y_test для оценки точности работы алгоритма.\n",
    "3. Посчитайте метрику RMSE для моделей LR. Если необходимо, попробуйте разные наборы параметров для получения лучшего результата.\n",
    "4. Постройте график зависимости ошибки от коэффициента регуляризации. "
   ]
  },
  {
   "cell_type": "code",
   "execution_count": 7,
   "id": "1903f23c",
   "metadata": {
    "execution": {
     "iopub.execute_input": "2021-10-29T04:36:28.166930Z",
     "iopub.status.busy": "2021-10-29T04:36:28.165807Z",
     "iopub.status.idle": "2021-10-29T04:36:28.209981Z",
     "shell.execute_reply": "2021-10-29T04:36:28.210729Z"
    },
    "papermill": {
     "duration": 0.074687,
     "end_time": "2021-10-29T04:36:28.210916",
     "exception": false,
     "start_time": "2021-10-29T04:36:28.136229",
     "status": "completed"
    },
    "tags": []
   },
   "outputs": [],
   "source": [
    "import pandas as pd\n",
    "from sklearn.preprocessing import MinMaxScaler\n",
    "X = pd.read_csv(\"../input/homework-linear-regression/x_boston_train.csv\").drop('Id', axis=1).to_numpy()\n",
    "y = pd.read_csv(\"../input/homework-linear-regression/y_boston_train.csv\").drop('Id', axis=1).to_numpy()\n",
    "scaler = MinMaxScaler()\n",
    "scaler.fit(X)\n",
    "X_train, X_test, y_train, y_test = train_test_split(scaler.transform(X), y, train_size=0.8, shuffle=False)"
   ]
  },
  {
   "cell_type": "code",
   "execution_count": 8,
   "id": "9012ee86",
   "metadata": {
    "execution": {
     "iopub.execute_input": "2021-10-29T04:36:28.239554Z",
     "iopub.status.busy": "2021-10-29T04:36:28.235924Z",
     "iopub.status.idle": "2021-10-29T04:37:10.514489Z",
     "shell.execute_reply": "2021-10-29T04:37:10.515020Z"
    },
    "papermill": {
     "duration": 42.293175,
     "end_time": "2021-10-29T04:37:10.515196",
     "exception": false,
     "start_time": "2021-10-29T04:36:28.222021",
     "status": "completed"
    },
    "tags": []
   },
   "outputs": [
    {
     "name": "stdout",
     "output_type": "stream",
     "text": [
      "0.007110000000000001\n"
     ]
    },
    {
     "data": {
      "image/png": "[encoded data removed]",
      "text/plain": [
       "<Figure size 432x288 with 1 Axes>"
      ]
     },
     "metadata": {
      "needs_background": "light"
     },
     "output_type": "display_data"
    }
   ],
   "source": [
    "alphas = np.arange(0, 1, 0.00001)\n",
    "errors = []\n",
    "for alpha in alphas:\n",
    "    regr = NormalLR(alpha)\n",
    "    regr.fit(X_train, y_train)\n",
    "    errors.append(rmse(y_test, regr.predict(X_test)))\n",
    "errors = np.array(errors)\n",
    "print(alphas[np.argmin(errors)])\n",
    "plt.plot(alphas, errors)\n",
    "# best\n",
    "regr = NormalLR(0.007110000000000001)\n",
    "regr.fit(X_train, y_train)"
   ]
  },
  {
   "cell_type": "markdown",
   "id": "15832a3d",
   "metadata": {
    "papermill": {
     "duration": 0.012886,
     "end_time": "2021-10-29T04:37:10.540458",
     "exception": false,
     "start_time": "2021-10-29T04:37:10.527572",
     "status": "completed"
    },
    "tags": []
   },
   "source": [
    "Обучите модель на всех данных из x_boston_train и y_boston_train.\n",
    "Сделайте submit своего решения и получите значение RMSE_score не более 5000"
   ]
  },
  {
   "cell_type": "code",
   "execution_count": 9,
   "id": "6177d557",
   "metadata": {
    "execution": {
     "iopub.execute_input": "2021-10-29T04:37:10.579990Z",
     "iopub.status.busy": "2021-10-29T04:37:10.579248Z",
     "iopub.status.idle": "2021-10-29T04:37:10.621597Z",
     "shell.execute_reply": "2021-10-29T04:37:10.620957Z"
    },
    "papermill": {
     "duration": 0.066053,
     "end_time": "2021-10-29T04:37:10.621750",
     "exception": false,
     "start_time": "2021-10-29T04:37:10.555697",
     "status": "completed"
    },
    "tags": []
   },
   "outputs": [],
   "source": [
    "test = pd.read_csv('../input/homework-linear-regression/x_boston_test.csv')\n",
    "submission = pd.DataFrame(columns = [\"Id\", \"Expected\"])\n",
    "submission[\"Id\"] = test[\"Id\"]\n",
    "test = test.drop('Id', axis = 1).to_numpy()\n",
    "MinMaxScaler().fit(test)\n",
    "submission[\"Expected\"] = regr.predict(scaler.transform(test))\n",
    "submission.to_csv('submission.csv', index=False)"
   ]
  }
 ],
 "metadata": {
  "kernelspec": {
   "display_name": "Python 3",
   "language": "python",
   "name": "python3"
  },
  "language_info": {
   "codemirror_mode": {
    "name": "ipython",
    "version": 3
   },
   "file_extension": ".py",
   "mimetype": "text/x-python",
   "name": "python",
   "nbconvert_exporter": "python",
   "pygments_lexer": "ipython3",
   "version": "3.7.10"
  },
  "papermill": {
   "default_parameters": {},
   "duration": 53.950746,
   "end_time": "2021-10-29T04:37:11.351543",
   "environment_variables": {},
   "exception": null,
   "input_path": "__notebook__.ipynb",
   "output_path": "__notebook__.ipynb",
   "parameters": {},
   "start_time": "2021-10-29T04:36:17.400797",
   "version": "2.3.3"
  }
 },
 "nbformat": 4,
 "nbformat_minor": 5
}
