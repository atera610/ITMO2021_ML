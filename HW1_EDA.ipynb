{
 "cells": [
  {
   "cell_type": "markdown",
   "metadata": {},
   "source": [
    "## Загрузка библиотек"
   ]
  },
  {
   "cell_type": "code",
   "execution_count": 1,
   "metadata": {},
   "outputs": [],
   "source": [
    "import pandas as pd"
   ]
  },
  {
   "cell_type": "markdown",
   "metadata": {},
   "source": [
    "## Загрузка данных"
   ]
  },
  {
   "cell_type": "markdown",
   "metadata": {},
   "source": [
    "Для начала работы нам необходимо научиться читать набор данных. В данном домашнем задании мы поработаем с двумя наборами данных.\n",
    "\n",
    "__covid.csv__ ([источник](https://www.kaggle.com/gpreda/covid-world-vaccination-progress)) - статистика по вакцинированию от COVID19 по разным странам. Для данного датасета нет конкретной предсказательной переменной.\n",
    "\n",
    "__hr.csv__ ([источник](https://www.kaggle.com/arashnic/hr-analytics-job-change-of-data-scientists)) - набор данных большего размера. Он содержит статистику по людям, проходящим курсы по Big Data & ML. _Target_ - 1 или 0, сменил ли человек работу после прохождения курсов - или нет.\n",
    "\n",
    "Реализуйте методы `read_covid_dataset` и `read_hr_dataset`. Каждый из них принимает на вход путь к набору данных и возвращает выборку `X` и соответствующие метки `y`. В случае _covid_ датасета `y` возвращается как `None`. "
   ]
  },
  {
   "cell_type": "code",
   "execution_count": 2,
   "metadata": {},
   "outputs": [],
   "source": [
    "def read_covid_dataset(path_to_csv):\n",
    "    df = pd.read_csv(path_to_csv)\n",
    "    return df, None\n",
    "\n",
    "\n",
    "def read_hr_dataset(path_to_csv):\n",
    "    df = pd.read_csv(path_to_csv)\n",
    "    return df, df['target']"
   ]
  },
  {
   "cell_type": "code",
   "execution_count": 5,
   "metadata": {},
   "outputs": [],
   "source": [
    "COVID_DATA_PATH = './hw_EDA_data/covid.csv'\n",
    "\n",
    "HR_DATA_PATH = './hw_EDA_data/hr.csv'\n"
   ]
  },
  {
   "cell_type": "code",
   "execution_count": 6,
   "metadata": {},
   "outputs": [],
   "source": [
    "X_covid, _ = read_covid_dataset(COVID_DATA_PATH)\n",
    "X_hr, y_hr = read_hr_dataset(HR_DATA_PATH)"
   ]
  },
  {
   "cell_type": "markdown",
   "metadata": {},
   "source": [
    "## EDA\n",
    "\n",
    "### Задание"
   ]
  },
  {
   "cell_type": "markdown",
   "metadata": {},
   "source": [
    "Выполните задание для датасетa _hr_.\n",
    "\n",
    "Для дальнейшей работы с данными нужно обработать пропущенные значения в датасете.\n",
    "Существуют различные стратегии обработки пропущенных данных."
   ]
  },
  {
   "cell_type": "markdown",
   "metadata": {},
   "source": [
    "#### 1.\n",
    "\n",
    "Для числовых признаков постройте распределения признаков. Для категориальных признаков выведите статистику по количеству значений признака."
   ]
  },
  {
   "cell_type": "code",
   "execution_count": 7,
   "metadata": {},
   "outputs": [
    {
     "name": "stdout",
     "output_type": "stream",
     "text": [
      "city                   123\n",
      "gender                   3\n",
      "relevent_experience      2\n",
      "enrolled_university      3\n",
      "education_level          5\n",
      "major_discipline         6\n",
      "experience              22\n",
      "company_size             8\n",
      "company_type             6\n",
      "last_new_job             6\n",
      "dtype: int64\n"
     ]
    },
    {
     "data": {
      "text/plain": "        enrollee_id  city_development_index  training_hours        target\ncount  19158.000000            19158.000000    19158.000000  19158.000000\nmean   16875.358179                0.828848       65.366896      0.249348\nstd     9616.292592                0.123362       60.058462      0.432647\nmin        1.000000                0.448000        1.000000      0.000000\n25%     8554.250000                0.740000       23.000000      0.000000\n50%    16982.500000                0.903000       47.000000      0.000000\n75%    25169.750000                0.920000       88.000000      0.000000\nmax    33380.000000                0.949000      336.000000      1.000000",
      "text/html": "<div>\n<style scoped>\n    .dataframe tbody tr th:only-of-type {\n        vertical-align: middle;\n    }\n\n    .dataframe tbody tr th {\n        vertical-align: top;\n    }\n\n    .dataframe thead th {\n        text-align: right;\n    }\n</style>\n<table border=\"1\" class=\"dataframe\">\n  <thead>\n    <tr style=\"text-align: right;\">\n      <th></th>\n      <th>enrollee_id</th>\n      <th>city_development_index</th>\n      <th>training_hours</th>\n      <th>target</th>\n    </tr>\n  </thead>\n  <tbody>\n    <tr>\n      <th>count</th>\n      <td>19158.000000</td>\n      <td>19158.000000</td>\n      <td>19158.000000</td>\n      <td>19158.000000</td>\n    </tr>\n    <tr>\n      <th>mean</th>\n      <td>16875.358179</td>\n      <td>0.828848</td>\n      <td>65.366896</td>\n      <td>0.249348</td>\n    </tr>\n    <tr>\n      <th>std</th>\n      <td>9616.292592</td>\n      <td>0.123362</td>\n      <td>60.058462</td>\n      <td>0.432647</td>\n    </tr>\n    <tr>\n      <th>min</th>\n      <td>1.000000</td>\n      <td>0.448000</td>\n      <td>1.000000</td>\n      <td>0.000000</td>\n    </tr>\n    <tr>\n      <th>25%</th>\n      <td>8554.250000</td>\n      <td>0.740000</td>\n      <td>23.000000</td>\n      <td>0.000000</td>\n    </tr>\n    <tr>\n      <th>50%</th>\n      <td>16982.500000</td>\n      <td>0.903000</td>\n      <td>47.000000</td>\n      <td>0.000000</td>\n    </tr>\n    <tr>\n      <th>75%</th>\n      <td>25169.750000</td>\n      <td>0.920000</td>\n      <td>88.000000</td>\n      <td>0.000000</td>\n    </tr>\n    <tr>\n      <th>max</th>\n      <td>33380.000000</td>\n      <td>0.949000</td>\n      <td>336.000000</td>\n      <td>1.000000</td>\n    </tr>\n  </tbody>\n</table>\n</div>"
     },
     "execution_count": 7,
     "metadata": {},
     "output_type": "execute_result"
    }
   ],
   "source": [
    "categorial_features = X_hr.select_dtypes(object)\n",
    "numeric_features = X_hr.select_dtypes('number')\n",
    "\n",
    "print(categorial_features.nunique())\n",
    "numeric_features.describe()"
   ]
  },
  {
   "cell_type": "markdown",
   "metadata": {},
   "source": [
    "#### 2.\n",
    "Удалите все строки, где есть хотя бы одно пропущенное значение признака. Насколько сильно уменьшился размер датасета? Как изменились распределения признаков/статистика по количеству значений признаков?"
   ]
  },
  {
   "cell_type": "code",
   "execution_count": 9,
   "metadata": {},
   "outputs": [
    {
     "name": "stdout",
     "output_type": "stream",
     "text": [
      "Исходный размер датасета hr 19158\n"
     ]
    }
   ],
   "source": [
    "print(f'Исходный размер датасета hr {len(X_hr.index)}')"
   ]
  },
  {
   "cell_type": "code",
   "execution_count": 10,
   "metadata": {},
   "outputs": [],
   "source": [
    "X_hr_dropna = X_hr.dropna()"
   ]
  },
  {
   "cell_type": "code",
   "execution_count": 11,
   "metadata": {},
   "outputs": [
    {
     "name": "stdout",
     "output_type": "stream",
     "text": [
      "Pазмер датасета hr без NaN 8955\n",
      "city                   116\n",
      "gender                   3\n",
      "relevent_experience      2\n",
      "enrolled_university      3\n",
      "education_level          3\n",
      "major_discipline         6\n",
      "experience              22\n",
      "company_size             8\n",
      "company_type             6\n",
      "last_new_job             6\n",
      "dtype: int64\n"
     ]
    }
   ],
   "source": [
    "print(f'Pазмер датасета hr без NaN {len(X_hr_dropna.index)}')\n",
    "\n",
    "categorial_features = X_hr_dropna.select_dtypes(object)\n",
    "numeric_features = X_hr_dropna.select_dtypes('number')\n",
    "\n",
    "print(categorial_features.nunique())\n",
    "numeric_features.describe()\n",
    "\n",
    "dataset_length = len(X_hr.index)"
   ]
  },
  {
   "cell_type": "markdown",
   "metadata": {},
   "source": [
    "_Ваш ответ_"
   ]
  },
  {
   "cell_type": "markdown",
   "metadata": {},
   "source": [
    "Давайте попробуем избежать сокращения размера датасета."
   ]
  },
  {
   "cell_type": "markdown",
   "metadata": {},
   "source": [
    "#### 3.\n",
    "Для числовых признаков заполните пропущенные данные средним/медианой/модой данного признака. Объясните свой выбор. (Часть строк с NaN значениями можно удалить, если размер датасета уменьшится <15%)"
   ]
  },
  {
   "cell_type": "markdown",
   "metadata": {},
   "source": [
    "#### 4.\n",
    "Для категориальных признаков заполните пропущенные значения самой встречающейся категорией или создайте отдельную категорию пропущенных значений. Объясните свой выбор. (Часть строк с NaN значениями можно удалить, если размер датасета уменьшится <15%)"
   ]
  },
  {
   "cell_type": "markdown",
   "metadata": {},
   "source": [
    "_Ваш ответ_"
   ]
  },
  {
   "cell_type": "code",
   "execution_count": 12,
   "metadata": {},
   "outputs": [],
   "source": [
    "def fill_na(X, y):\n",
    "    X_fill = X_hr\n",
    "#3. There're no NaN for numeric values\n",
    "#4.\n",
    "    #nan for gender has meaning\n",
    "    X_fill['gender'] = X_hr['gender'].fillna('Non-binary')\n",
    "\n",
    "    # enrolled_university, education_level, experience, last_new_job nan has no meaning & small percentage\n",
    "    X_fill = X_hr.dropna(subset = ['enrolled_university','education_level','experience','last_new_job'])\n",
    "\n",
    "    # nan for major_discipline means that person has no graduate or higher degree\n",
    "    X_fill['major_discipline'] = X_hr['major_discipline'].fillna('No degree')\n",
    "\n",
    "    # company_size, company_type nan has no meaning & big %\n",
    "    size_filler = X_hr.company_size.mode(dropna = True)[0]\n",
    "    type_filler = X_hr.company_type.mode(dropna = True)[0]\n",
    "    X_fill['company_size'] = X_hr['company_size'].fillna(size_filler)\n",
    "    X_fill['company_type'] = X_hr['company_type'].fillna(type_filler)\n",
    "\n",
    "    y_fill = X_fill['target']\n",
    "    return X_fill, y_fill"
   ]
  },
  {
   "cell_type": "code",
   "execution_count": 13,
   "metadata": {},
   "outputs": [
    {
     "name": "stderr",
     "output_type": "stream",
     "text": [
      "<ipython-input-12-1bc25c5643dc>:12: SettingWithCopyWarning: \n",
      "A value is trying to be set on a copy of a slice from a DataFrame.\n",
      "Try using .loc[row_indexer,col_indexer] = value instead\n",
      "\n",
      "See the caveats in the documentation: https://pandas.pydata.org/pandas-docs/stable/user_guide/indexing.html#returning-a-view-versus-a-copy\n",
      "  X_fill['major_discipline'] = X_hr['major_discipline'].fillna('No degree')\n",
      "<ipython-input-12-1bc25c5643dc>:17: SettingWithCopyWarning: \n",
      "A value is trying to be set on a copy of a slice from a DataFrame.\n",
      "Try using .loc[row_indexer,col_indexer] = value instead\n",
      "\n",
      "See the caveats in the documentation: https://pandas.pydata.org/pandas-docs/stable/user_guide/indexing.html#returning-a-view-versus-a-copy\n",
      "  X_fill['company_size'] = X_hr['company_size'].fillna(size_filler)\n",
      "<ipython-input-12-1bc25c5643dc>:18: SettingWithCopyWarning: \n",
      "A value is trying to be set on a copy of a slice from a DataFrame.\n",
      "Try using .loc[row_indexer,col_indexer] = value instead\n",
      "\n",
      "See the caveats in the documentation: https://pandas.pydata.org/pandas-docs/stable/user_guide/indexing.html#returning-a-view-versus-a-copy\n",
      "  X_fill['company_type'] = X_hr['company_type'].fillna(type_filler)\n"
     ]
    },
    {
     "data": {
      "text/plain": "       enrollee_id      city  city_development_index      gender  \\\n0             8949  city_103                   0.920        Male   \n1            29725   city_40                   0.776        Male   \n2            11561   city_21                   0.624  Non-binary   \n4              666  city_162                   0.767        Male   \n5            21651  city_176                   0.764  Non-binary   \n...            ...       ...                     ...         ...   \n19153         7386  city_173                   0.878        Male   \n19154        31398  city_103                   0.920        Male   \n19155        24576  city_103                   0.920        Male   \n19156         5756   city_65                   0.802        Male   \n19157        23834   city_67                   0.855  Non-binary   \n\n           relevent_experience enrolled_university education_level  \\\n0      Has relevent experience       no_enrollment        Graduate   \n1       No relevent experience       no_enrollment        Graduate   \n2       No relevent experience    Full time course        Graduate   \n4      Has relevent experience       no_enrollment         Masters   \n5      Has relevent experience    Part time course        Graduate   \n...                        ...                 ...             ...   \n19153   No relevent experience       no_enrollment        Graduate   \n19154  Has relevent experience       no_enrollment        Graduate   \n19155  Has relevent experience       no_enrollment        Graduate   \n19156  Has relevent experience       no_enrollment     High School   \n19157   No relevent experience       no_enrollment  Primary School   \n\n      major_discipline experience company_size    company_type last_new_job  \\\n0                 STEM        >20        50-99         Pvt Ltd            1   \n1                 STEM         15        50-99         Pvt Ltd           >4   \n2                 STEM          5        50-99         Pvt Ltd        never   \n4                 STEM        >20        50-99  Funded Startup            4   \n5                 STEM         11        50-99         Pvt Ltd            1   \n...                ...        ...          ...             ...          ...   \n19153       Humanities         14        50-99         Pvt Ltd            1   \n19154             STEM         14        50-99         Pvt Ltd            4   \n19155             STEM        >20        50-99         Pvt Ltd            4   \n19156        No degree         <1      500-999         Pvt Ltd            2   \n19157        No degree          2        50-99         Pvt Ltd            1   \n\n       training_hours  target  \n0                  36     1.0  \n1                  47     0.0  \n2                  83     0.0  \n4                   8     0.0  \n5                  24     1.0  \n...               ...     ...  \n19153              42     1.0  \n19154              52     1.0  \n19155              44     0.0  \n19156              97     0.0  \n19157             127     0.0  \n\n[18014 rows x 14 columns]",
      "text/html": "<div>\n<style scoped>\n    .dataframe tbody tr th:only-of-type {\n        vertical-align: middle;\n    }\n\n    .dataframe tbody tr th {\n        vertical-align: top;\n    }\n\n    .dataframe thead th {\n        text-align: right;\n    }\n</style>\n<table border=\"1\" class=\"dataframe\">\n  <thead>\n    <tr style=\"text-align: right;\">\n      <th></th>\n      <th>enrollee_id</th>\n      <th>city</th>\n      <th>city_development_index</th>\n      <th>gender</th>\n      <th>relevent_experience</th>\n      <th>enrolled_university</th>\n      <th>education_level</th>\n      <th>major_discipline</th>\n      <th>experience</th>\n      <th>company_size</th>\n      <th>company_type</th>\n      <th>last_new_job</th>\n      <th>training_hours</th>\n      <th>target</th>\n    </tr>\n  </thead>\n  <tbody>\n    <tr>\n      <th>0</th>\n      <td>8949</td>\n      <td>city_103</td>\n      <td>0.920</td>\n      <td>Male</td>\n      <td>Has relevent experience</td>\n      <td>no_enrollment</td>\n      <td>Graduate</td>\n      <td>STEM</td>\n      <td>&gt;20</td>\n      <td>50-99</td>\n      <td>Pvt Ltd</td>\n      <td>1</td>\n      <td>36</td>\n      <td>1.0</td>\n    </tr>\n    <tr>\n      <th>1</th>\n      <td>29725</td>\n      <td>city_40</td>\n      <td>0.776</td>\n      <td>Male</td>\n      <td>No relevent experience</td>\n      <td>no_enrollment</td>\n      <td>Graduate</td>\n      <td>STEM</td>\n      <td>15</td>\n      <td>50-99</td>\n      <td>Pvt Ltd</td>\n      <td>&gt;4</td>\n      <td>47</td>\n      <td>0.0</td>\n    </tr>\n    <tr>\n      <th>2</th>\n      <td>11561</td>\n      <td>city_21</td>\n      <td>0.624</td>\n      <td>Non-binary</td>\n      <td>No relevent experience</td>\n      <td>Full time course</td>\n      <td>Graduate</td>\n      <td>STEM</td>\n      <td>5</td>\n      <td>50-99</td>\n      <td>Pvt Ltd</td>\n      <td>never</td>\n      <td>83</td>\n      <td>0.0</td>\n    </tr>\n    <tr>\n      <th>4</th>\n      <td>666</td>\n      <td>city_162</td>\n      <td>0.767</td>\n      <td>Male</td>\n      <td>Has relevent experience</td>\n      <td>no_enrollment</td>\n      <td>Masters</td>\n      <td>STEM</td>\n      <td>&gt;20</td>\n      <td>50-99</td>\n      <td>Funded Startup</td>\n      <td>4</td>\n      <td>8</td>\n      <td>0.0</td>\n    </tr>\n    <tr>\n      <th>5</th>\n      <td>21651</td>\n      <td>city_176</td>\n      <td>0.764</td>\n      <td>Non-binary</td>\n      <td>Has relevent experience</td>\n      <td>Part time course</td>\n      <td>Graduate</td>\n      <td>STEM</td>\n      <td>11</td>\n      <td>50-99</td>\n      <td>Pvt Ltd</td>\n      <td>1</td>\n      <td>24</td>\n      <td>1.0</td>\n    </tr>\n    <tr>\n      <th>...</th>\n      <td>...</td>\n      <td>...</td>\n      <td>...</td>\n      <td>...</td>\n      <td>...</td>\n      <td>...</td>\n      <td>...</td>\n      <td>...</td>\n      <td>...</td>\n      <td>...</td>\n      <td>...</td>\n      <td>...</td>\n      <td>...</td>\n      <td>...</td>\n    </tr>\n    <tr>\n      <th>19153</th>\n      <td>7386</td>\n      <td>city_173</td>\n      <td>0.878</td>\n      <td>Male</td>\n      <td>No relevent experience</td>\n      <td>no_enrollment</td>\n      <td>Graduate</td>\n      <td>Humanities</td>\n      <td>14</td>\n      <td>50-99</td>\n      <td>Pvt Ltd</td>\n      <td>1</td>\n      <td>42</td>\n      <td>1.0</td>\n    </tr>\n    <tr>\n      <th>19154</th>\n      <td>31398</td>\n      <td>city_103</td>\n      <td>0.920</td>\n      <td>Male</td>\n      <td>Has relevent experience</td>\n      <td>no_enrollment</td>\n      <td>Graduate</td>\n      <td>STEM</td>\n      <td>14</td>\n      <td>50-99</td>\n      <td>Pvt Ltd</td>\n      <td>4</td>\n      <td>52</td>\n      <td>1.0</td>\n    </tr>\n    <tr>\n      <th>19155</th>\n      <td>24576</td>\n      <td>city_103</td>\n      <td>0.920</td>\n      <td>Male</td>\n      <td>Has relevent experience</td>\n      <td>no_enrollment</td>\n      <td>Graduate</td>\n      <td>STEM</td>\n      <td>&gt;20</td>\n      <td>50-99</td>\n      <td>Pvt Ltd</td>\n      <td>4</td>\n      <td>44</td>\n      <td>0.0</td>\n    </tr>\n    <tr>\n      <th>19156</th>\n      <td>5756</td>\n      <td>city_65</td>\n      <td>0.802</td>\n      <td>Male</td>\n      <td>Has relevent experience</td>\n      <td>no_enrollment</td>\n      <td>High School</td>\n      <td>No degree</td>\n      <td>&lt;1</td>\n      <td>500-999</td>\n      <td>Pvt Ltd</td>\n      <td>2</td>\n      <td>97</td>\n      <td>0.0</td>\n    </tr>\n    <tr>\n      <th>19157</th>\n      <td>23834</td>\n      <td>city_67</td>\n      <td>0.855</td>\n      <td>Non-binary</td>\n      <td>No relevent experience</td>\n      <td>no_enrollment</td>\n      <td>Primary School</td>\n      <td>No degree</td>\n      <td>2</td>\n      <td>50-99</td>\n      <td>Pvt Ltd</td>\n      <td>1</td>\n      <td>127</td>\n      <td>0.0</td>\n    </tr>\n  </tbody>\n</table>\n<p>18014 rows × 14 columns</p>\n</div>"
     },
     "execution_count": 13,
     "metadata": {},
     "output_type": "execute_result"
    }
   ],
   "source": [
    "X_hr_fill, y_hr_fill = fill_na(X_hr, y_hr)\n",
    "X_hr_fill"
   ]
  },
  {
   "cell_type": "markdown",
   "metadata": {},
   "source": [
    "#### 5. \n",
    "Как изменились распределения признаков/статистика по количеству значений признаков после заполнения пропущенных данных?"
   ]
  },
  {
   "cell_type": "code",
   "execution_count": 14,
   "metadata": {},
   "outputs": [
    {
     "name": "stdout",
     "output_type": "stream",
     "text": [
      "city                   123\n",
      "gender                   4\n",
      "relevent_experience      2\n",
      "enrolled_university      3\n",
      "education_level          5\n",
      "major_discipline         7\n",
      "experience              22\n",
      "company_size             8\n",
      "company_type             6\n",
      "last_new_job             6\n",
      "dtype: int64\n"
     ]
    },
    {
     "data": {
      "text/plain": "        enrollee_id  city_development_index  training_hours        target\ncount  18014.000000            18014.000000    18014.000000  18014.000000\nmean   16903.699734                0.831728       65.347896      0.245420\nstd     9665.557267                0.122115       60.059220      0.430348\nmin        1.000000                0.448000        1.000000      0.000000\n25%     8528.750000                0.745000       23.000000      0.000000\n50%    17012.500000                0.910000       47.000000      0.000000\n75%    25326.250000                0.920000       88.000000      0.000000\nmax    33380.000000                0.949000      336.000000      1.000000",
      "text/html": "<div>\n<style scoped>\n    .dataframe tbody tr th:only-of-type {\n        vertical-align: middle;\n    }\n\n    .dataframe tbody tr th {\n        vertical-align: top;\n    }\n\n    .dataframe thead th {\n        text-align: right;\n    }\n</style>\n<table border=\"1\" class=\"dataframe\">\n  <thead>\n    <tr style=\"text-align: right;\">\n      <th></th>\n      <th>enrollee_id</th>\n      <th>city_development_index</th>\n      <th>training_hours</th>\n      <th>target</th>\n    </tr>\n  </thead>\n  <tbody>\n    <tr>\n      <th>count</th>\n      <td>18014.000000</td>\n      <td>18014.000000</td>\n      <td>18014.000000</td>\n      <td>18014.000000</td>\n    </tr>\n    <tr>\n      <th>mean</th>\n      <td>16903.699734</td>\n      <td>0.831728</td>\n      <td>65.347896</td>\n      <td>0.245420</td>\n    </tr>\n    <tr>\n      <th>std</th>\n      <td>9665.557267</td>\n      <td>0.122115</td>\n      <td>60.059220</td>\n      <td>0.430348</td>\n    </tr>\n    <tr>\n      <th>min</th>\n      <td>1.000000</td>\n      <td>0.448000</td>\n      <td>1.000000</td>\n      <td>0.000000</td>\n    </tr>\n    <tr>\n      <th>25%</th>\n      <td>8528.750000</td>\n      <td>0.745000</td>\n      <td>23.000000</td>\n      <td>0.000000</td>\n    </tr>\n    <tr>\n      <th>50%</th>\n      <td>17012.500000</td>\n      <td>0.910000</td>\n      <td>47.000000</td>\n      <td>0.000000</td>\n    </tr>\n    <tr>\n      <th>75%</th>\n      <td>25326.250000</td>\n      <td>0.920000</td>\n      <td>88.000000</td>\n      <td>0.000000</td>\n    </tr>\n    <tr>\n      <th>max</th>\n      <td>33380.000000</td>\n      <td>0.949000</td>\n      <td>336.000000</td>\n      <td>1.000000</td>\n    </tr>\n  </tbody>\n</table>\n</div>"
     },
     "execution_count": 14,
     "metadata": {},
     "output_type": "execute_result"
    }
   ],
   "source": [
    "categorial_features = X_hr_fill.select_dtypes(object)\n",
    "numeric_features = X_hr_fill.select_dtypes('number')\n",
    "\n",
    "print(categorial_features.nunique())\n",
    "numeric_features.describe()"
   ]
  },
  {
   "cell_type": "markdown",
   "metadata": {},
   "source": [
    "_Ваш ответ_"
   ]
  },
  {
   "cell_type": "markdown",
   "metadata": {},
   "source": [
    "### Задание\n",
    "\n",
    "Выполните задание для датасета _covid_.\n",
    "\n",
    "1. Найдите страну, для которой в датасете присутствует 46 дат со статистикой по вакцинации.\n",
    "2. Постройте для этой страны график зависимости _total_vaccinations_ от _date_.\n",
    "3. Заполните пропущенные данные о _total_vaccinations_ для этой страны. Объясните свой выбор."
   ]
  },
  {
   "cell_type": "code",
   "execution_count": 16,
   "metadata": {},
   "outputs": [
    {
     "data": {
      "text/plain": "<Figure size 360x360 with 1 Axes>",
      "image/png": "[encoded data removed]"
     },
     "metadata": {
      "needs_background": "light"
     },
     "output_type": "display_data"
    }
   ],
   "source": [
    "import seaborn as sns\n",
    "#1.\n",
    "X_covid_filtered = pd.DataFrame(X_covid.groupby('country').nunique())\n",
    "#This works, but i don't understand why\n",
    "country = X_covid_filtered.loc[X_covid_filtered['date'] == 43].iloc[0]\n",
    "#2.\n",
    "X_covid['date'] = pd.to_datetime(X_covid['date'], format = '%Y-%m-%d')\n",
    "X_covid_country = X_covid.loc[X_covid['country'] == country.name]\n",
    "#Is there a fast way to correct x axis?\n",
    "plot = sns.relplot(x = X_covid_country['date'], y = X_covid_country['total_vaccinations'])\n",
    "\n",
    "#3. Т.к. даты и _daily_vaccinations_ указаны во всех строках, кроме первой, мы примерно посчитать\n",
    "# число вакцинированных людей за каждый промежуток времени.\n",
    "X_covid_contry_sorted = X_covid_country.sort_values(by = ['date']).dropna(subset = ['daily_vaccinations'])\n",
    "prev_date = X_covid_contry_sorted['date'].iloc[0]\n",
    "prev_count = X_covid_contry_sorted['total_vaccinations'].iloc[0]\n",
    "for ind in X_covid_contry_sorted.index:\n",
    "    if(pd.isnull(X_covid['total_vaccinations'].iloc[ind])):\n",
    "        X_covid.at[ind, 'total_vaccinations'] = prev_count + (X_covid['date'][ind] - prev_date).days * X_covid['daily_vaccinations'][ind]\n",
    "    prev_date = X_covid['date'][ind]\n",
    "    prev_count = X_covid['total_vaccinations'][ind]\n"
   ]
  },
  {
   "cell_type": "markdown",
   "metadata": {},
   "source": [
    "_Ваш ответ_"
   ]
  },
  {
   "cell_type": "markdown",
   "metadata": {},
   "source": [
    "### Задание \n",
    "Выполните задание для датасета _hr_.\n",
    "\n",
    "Есть ли в данных выбросы? Если да, то скажите, какие и почему Вы считаете их выбросами?\n"
   ]
  },
  {
   "cell_type": "code",
   "execution_count": 17,
   "metadata": {},
   "outputs": [
    {
     "data": {
      "text/plain": "<AxesSubplot:xlabel='training_hours'>"
     },
     "execution_count": 17,
     "metadata": {},
     "output_type": "execute_result"
    },
    {
     "data": {
      "text/plain": "<Figure size 432x288 with 1 Axes>",
      "image/png": "[encoded data removed]"
     },
     "metadata": {
      "needs_background": "light"
     },
     "output_type": "display_data"
    }
   ],
   "source": [
    "import matplotlib.pyplot as plt\n",
    "# there's only 1 column that can have outliers(numeric and not index/id)\n",
    "sns.boxplot(data=X_hr_fill, x='training_hours')"
   ]
  },
  {
   "cell_type": "markdown",
   "metadata": {},
   "source": [
    "_Ваш ответ_"
   ]
  },
  {
   "cell_type": "markdown",
   "metadata": {},
   "source": [
    "### Задание \n",
    "Выполните задание для датасета _hr_.\n",
    "\n",
    "Закодируйте категориальные признаки при помощи One-hot encoding/Label encoding/Frequency encoding. Объясните свой выбор. (Обратите внимание, что некоторые категориальные признаки предполагают ранжирование в своих значениях)\n"
   ]
  },
  {
   "cell_type": "code",
   "execution_count": 19,
   "metadata": {},
   "outputs": [],
   "source": [
    "import category_encoders as ce\n",
    "def encode(X):\n",
    "#     X_encode = X\n",
    "    #т.к. эти данные имеют порядок\n",
    "\n",
    "    encoder= ce.OrdinalEncoder(cols=['relevent_experience', 'education_level', 'company_size'],\n",
    "                               return_df = True,\n",
    "                               mapping=[{'col':'relevent_experience','mapping':\n",
    "                                         {'Has relevent experience':1,'No relevent experience':0}},\n",
    "                                        {'col':'education_level','mapping':\n",
    "                                         {'Primary School':0,'High School':1, 'Graduate':2, 'Masters':3, 'Phd':4}},\n",
    "                                        {'col':'company_size','mapping':\n",
    "                                         {'<10':0,'10/49':1, '50-99':2, '100-500':3, '500-999':4, '1000-4999':5, '5000-9999':6, '10000+':7}}\n",
    "                                       ])\n",
    "    X_encode = encoder.fit_transform(X)\n",
    "\n",
    "    #тут аналогично есть порядок, но все лейблы заменять не нужно\n",
    "    X_encode['experience'] = X_encode['experience'].replace({'>20': 21})\n",
    "    X_encode['experience'] = X_encode['experience'].replace({'<1': 0})\n",
    "    X_encode['last_new_job'] = X_encode['last_new_job'].replace({'never': 0})\n",
    "    X_encode['last_new_job'] = X_encode['last_new_job'].replace({'>4': 5})\n",
    "\n",
    "    #Нет порядка, не знаем влияет ли частота появления признаков на таргет.\n",
    "    encoder = ce.OneHotEncoder(cols=['city', 'gender', 'enrolled_university', 'major_discipline', 'company_type'],return_df = True, use_cat_names = True)\n",
    "    X_encode = encoder.fit_transform(X_encode)\n",
    "\n",
    "    X_encode = X_encode.apply(pd.to_numeric)\n",
    "    return X_encode"
   ]
  },
  {
   "cell_type": "code",
   "execution_count": 20,
   "metadata": {},
   "outputs": [
    {
     "data": {
      "text/plain": "       enrollee_id  city_city_103  city_city_40  city_city_21  city_city_162  \\\n0             8949              1             0             0              0   \n1            29725              0             1             0              0   \n2            11561              0             0             1              0   \n4              666              0             0             0              1   \n5            21651              0             0             0              0   \n...            ...            ...           ...           ...            ...   \n19153         7386              0             0             0              0   \n19154        31398              1             0             0              0   \n19155        24576              1             0             0              0   \n19156         5756              0             0             0              0   \n19157        23834              0             0             0              0   \n\n       city_city_176  city_city_160  city_city_46  city_city_61  \\\n0                  0              0             0             0   \n1                  0              0             0             0   \n2                  0              0             0             0   \n4                  0              0             0             0   \n5                  1              0             0             0   \n...              ...            ...           ...           ...   \n19153              0              0             0             0   \n19154              0              0             0             0   \n19155              0              0             0             0   \n19156              0              0             0             0   \n19157              0              0             0             0   \n\n       city_city_114  ...  company_size  company_type_Pvt Ltd  \\\n0                  0  ...             2                     1   \n1                  0  ...             2                     1   \n2                  0  ...             2                     1   \n4                  0  ...             2                     0   \n5                  0  ...             2                     1   \n...              ...  ...           ...                   ...   \n19153              0  ...             2                     1   \n19154              0  ...             2                     1   \n19155              0  ...             2                     1   \n19156              0  ...             4                     1   \n19157              0  ...             2                     1   \n\n       company_type_Funded Startup  company_type_Early Stage Startup  \\\n0                                0                                 0   \n1                                0                                 0   \n2                                0                                 0   \n4                                1                                 0   \n5                                0                                 0   \n...                            ...                               ...   \n19153                            0                                 0   \n19154                            0                                 0   \n19155                            0                                 0   \n19156                            0                                 0   \n19157                            0                                 0   \n\n       company_type_Other  company_type_Public Sector  company_type_NGO  \\\n0                       0                           0                 0   \n1                       0                           0                 0   \n2                       0                           0                 0   \n4                       0                           0                 0   \n5                       0                           0                 0   \n...                   ...                         ...               ...   \n19153                   0                           0                 0   \n19154                   0                           0                 0   \n19155                   0                           0                 0   \n19156                   0                           0                 0   \n19157                   0                           0                 0   \n\n       last_new_job  training_hours  target  \n0                 1              36     1.0  \n1                 5              47     0.0  \n2                 0              83     0.0  \n4                 4               8     0.0  \n5                 1              24     1.0  \n...             ...             ...     ...  \n19153             1              42     1.0  \n19154             4              52     1.0  \n19155             4              44     0.0  \n19156             2              97     0.0  \n19157             1             127     0.0  \n\n[18014 rows x 152 columns]",
      "text/html": "<div>\n<style scoped>\n    .dataframe tbody tr th:only-of-type {\n        vertical-align: middle;\n    }\n\n    .dataframe tbody tr th {\n        vertical-align: top;\n    }\n\n    .dataframe thead th {\n        text-align: right;\n    }\n</style>\n<table border=\"1\" class=\"dataframe\">\n  <thead>\n    <tr style=\"text-align: right;\">\n      <th></th>\n      <th>enrollee_id</th>\n      <th>city_city_103</th>\n      <th>city_city_40</th>\n      <th>city_city_21</th>\n      <th>city_city_162</th>\n      <th>city_city_176</th>\n      <th>city_city_160</th>\n      <th>city_city_46</th>\n      <th>city_city_61</th>\n      <th>city_city_114</th>\n      <th>...</th>\n      <th>company_size</th>\n      <th>company_type_Pvt Ltd</th>\n      <th>company_type_Funded Startup</th>\n      <th>company_type_Early Stage Startup</th>\n      <th>company_type_Other</th>\n      <th>company_type_Public Sector</th>\n      <th>company_type_NGO</th>\n      <th>last_new_job</th>\n      <th>training_hours</th>\n      <th>target</th>\n    </tr>\n  </thead>\n  <tbody>\n    <tr>\n      <th>0</th>\n      <td>8949</td>\n      <td>1</td>\n      <td>0</td>\n      <td>0</td>\n      <td>0</td>\n      <td>0</td>\n      <td>0</td>\n      <td>0</td>\n      <td>0</td>\n      <td>0</td>\n      <td>...</td>\n      <td>2</td>\n      <td>1</td>\n      <td>0</td>\n      <td>0</td>\n      <td>0</td>\n      <td>0</td>\n      <td>0</td>\n      <td>1</td>\n      <td>36</td>\n      <td>1.0</td>\n    </tr>\n    <tr>\n      <th>1</th>\n      <td>29725</td>\n      <td>0</td>\n      <td>1</td>\n      <td>0</td>\n      <td>0</td>\n      <td>0</td>\n      <td>0</td>\n      <td>0</td>\n      <td>0</td>\n      <td>0</td>\n      <td>...</td>\n      <td>2</td>\n      <td>1</td>\n      <td>0</td>\n      <td>0</td>\n      <td>0</td>\n      <td>0</td>\n      <td>0</td>\n      <td>5</td>\n      <td>47</td>\n      <td>0.0</td>\n    </tr>\n    <tr>\n      <th>2</th>\n      <td>11561</td>\n      <td>0</td>\n      <td>0</td>\n      <td>1</td>\n      <td>0</td>\n      <td>0</td>\n      <td>0</td>\n      <td>0</td>\n      <td>0</td>\n      <td>0</td>\n      <td>...</td>\n      <td>2</td>\n      <td>1</td>\n      <td>0</td>\n      <td>0</td>\n      <td>0</td>\n      <td>0</td>\n      <td>0</td>\n      <td>0</td>\n      <td>83</td>\n      <td>0.0</td>\n    </tr>\n    <tr>\n      <th>4</th>\n      <td>666</td>\n      <td>0</td>\n      <td>0</td>\n      <td>0</td>\n      <td>1</td>\n      <td>0</td>\n      <td>0</td>\n      <td>0</td>\n      <td>0</td>\n      <td>0</td>\n      <td>...</td>\n      <td>2</td>\n      <td>0</td>\n      <td>1</td>\n      <td>0</td>\n      <td>0</td>\n      <td>0</td>\n      <td>0</td>\n      <td>4</td>\n      <td>8</td>\n      <td>0.0</td>\n    </tr>\n    <tr>\n      <th>5</th>\n      <td>21651</td>\n      <td>0</td>\n      <td>0</td>\n      <td>0</td>\n      <td>0</td>\n      <td>1</td>\n      <td>0</td>\n      <td>0</td>\n      <td>0</td>\n      <td>0</td>\n      <td>...</td>\n      <td>2</td>\n      <td>1</td>\n      <td>0</td>\n      <td>0</td>\n      <td>0</td>\n      <td>0</td>\n      <td>0</td>\n      <td>1</td>\n      <td>24</td>\n      <td>1.0</td>\n    </tr>\n    <tr>\n      <th>...</th>\n      <td>...</td>\n      <td>...</td>\n      <td>...</td>\n      <td>...</td>\n      <td>...</td>\n      <td>...</td>\n      <td>...</td>\n      <td>...</td>\n      <td>...</td>\n      <td>...</td>\n      <td>...</td>\n      <td>...</td>\n      <td>...</td>\n      <td>...</td>\n      <td>...</td>\n      <td>...</td>\n      <td>...</td>\n      <td>...</td>\n      <td>...</td>\n      <td>...</td>\n      <td>...</td>\n    </tr>\n    <tr>\n      <th>19153</th>\n      <td>7386</td>\n      <td>0</td>\n      <td>0</td>\n      <td>0</td>\n      <td>0</td>\n      <td>0</td>\n      <td>0</td>\n      <td>0</td>\n      <td>0</td>\n      <td>0</td>\n      <td>...</td>\n      <td>2</td>\n      <td>1</td>\n      <td>0</td>\n      <td>0</td>\n      <td>0</td>\n      <td>0</td>\n      <td>0</td>\n      <td>1</td>\n      <td>42</td>\n      <td>1.0</td>\n    </tr>\n    <tr>\n      <th>19154</th>\n      <td>31398</td>\n      <td>1</td>\n      <td>0</td>\n      <td>0</td>\n      <td>0</td>\n      <td>0</td>\n      <td>0</td>\n      <td>0</td>\n      <td>0</td>\n      <td>0</td>\n      <td>...</td>\n      <td>2</td>\n      <td>1</td>\n      <td>0</td>\n      <td>0</td>\n      <td>0</td>\n      <td>0</td>\n      <td>0</td>\n      <td>4</td>\n      <td>52</td>\n      <td>1.0</td>\n    </tr>\n    <tr>\n      <th>19155</th>\n      <td>24576</td>\n      <td>1</td>\n      <td>0</td>\n      <td>0</td>\n      <td>0</td>\n      <td>0</td>\n      <td>0</td>\n      <td>0</td>\n      <td>0</td>\n      <td>0</td>\n      <td>...</td>\n      <td>2</td>\n      <td>1</td>\n      <td>0</td>\n      <td>0</td>\n      <td>0</td>\n      <td>0</td>\n      <td>0</td>\n      <td>4</td>\n      <td>44</td>\n      <td>0.0</td>\n    </tr>\n    <tr>\n      <th>19156</th>\n      <td>5756</td>\n      <td>0</td>\n      <td>0</td>\n      <td>0</td>\n      <td>0</td>\n      <td>0</td>\n      <td>0</td>\n      <td>0</td>\n      <td>0</td>\n      <td>0</td>\n      <td>...</td>\n      <td>4</td>\n      <td>1</td>\n      <td>0</td>\n      <td>0</td>\n      <td>0</td>\n      <td>0</td>\n      <td>0</td>\n      <td>2</td>\n      <td>97</td>\n      <td>0.0</td>\n    </tr>\n    <tr>\n      <th>19157</th>\n      <td>23834</td>\n      <td>0</td>\n      <td>0</td>\n      <td>0</td>\n      <td>0</td>\n      <td>0</td>\n      <td>0</td>\n      <td>0</td>\n      <td>0</td>\n      <td>0</td>\n      <td>...</td>\n      <td>2</td>\n      <td>1</td>\n      <td>0</td>\n      <td>0</td>\n      <td>0</td>\n      <td>0</td>\n      <td>0</td>\n      <td>1</td>\n      <td>127</td>\n      <td>0.0</td>\n    </tr>\n  </tbody>\n</table>\n<p>18014 rows × 152 columns</p>\n</div>"
     },
     "execution_count": 20,
     "metadata": {},
     "output_type": "execute_result"
    }
   ],
   "source": [
    "X_hr_encode = encode(X_hr_fill)\n",
    "X_hr_encode"
   ]
  },
  {
   "cell_type": "markdown",
   "metadata": {},
   "source": [
    "_Ваш ответ_"
   ]
  },
  {
   "cell_type": "markdown",
   "metadata": {},
   "source": [
    "### Задание \n",
    "Выполните задание для датасета _hr_.\n",
    "\n",
    "\n"
   ]
  },
  {
   "cell_type": "markdown",
   "metadata": {},
   "source": [
    "#### 1. \n",
    "Реализуйте функцию undersampling"
   ]
  },
  {
   "cell_type": "markdown",
   "metadata": {},
   "source": [
    "#### 2. \n",
    "Реализуйте функцию oversampling"
   ]
  },
  {
   "cell_type": "code",
   "execution_count": 33,
   "outputs": [
    {
     "data": {
      "text/plain": "       enrollee_id  city_city_103  city_city_40  city_city_21  city_city_162  \\\n0             8949              1             0             0              0   \n1            29725              0             1             0              0   \n2            11561              0             0             1              0   \n4              666              0             0             0              1   \n5            21651              0             0             0              0   \n...            ...            ...           ...           ...            ...   \n19153         7386              0             0             0              0   \n19154        31398              1             0             0              0   \n19155        24576              1             0             0              0   \n19156         5756              0             0             0              0   \n19157        23834              0             0             0              0   \n\n       city_city_176  city_city_160  city_city_46  city_city_61  \\\n0                  0              0             0             0   \n1                  0              0             0             0   \n2                  0              0             0             0   \n4                  0              0             0             0   \n5                  1              0             0             0   \n...              ...            ...           ...           ...   \n19153              0              0             0             0   \n19154              0              0             0             0   \n19155              0              0             0             0   \n19156              0              0             0             0   \n19157              0              0             0             0   \n\n       city_city_114  ...  company_size  company_type_Pvt Ltd  \\\n0                  0  ...             2                     1   \n1                  0  ...             2                     1   \n2                  0  ...             2                     1   \n4                  0  ...             2                     0   \n5                  0  ...             2                     1   \n...              ...  ...           ...                   ...   \n19153              0  ...             2                     1   \n19154              0  ...             2                     1   \n19155              0  ...             2                     1   \n19156              0  ...             4                     1   \n19157              0  ...             2                     1   \n\n       company_type_Funded Startup  company_type_Early Stage Startup  \\\n0                                0                                 0   \n1                                0                                 0   \n2                                0                                 0   \n4                                1                                 0   \n5                                0                                 0   \n...                            ...                               ...   \n19153                            0                                 0   \n19154                            0                                 0   \n19155                            0                                 0   \n19156                            0                                 0   \n19157                            0                                 0   \n\n       company_type_Other  company_type_Public Sector  company_type_NGO  \\\n0                       0                           0                 0   \n1                       0                           0                 0   \n2                       0                           0                 0   \n4                       0                           0                 0   \n5                       0                           0                 0   \n...                   ...                         ...               ...   \n19153                   0                           0                 0   \n19154                   0                           0                 0   \n19155                   0                           0                 0   \n19156                   0                           0                 0   \n19157                   0                           0                 0   \n\n       last_new_job  training_hours  target  \n0                 1              36     1.0  \n1                 5              47     0.0  \n2                 0              83     0.0  \n4                 4               8     0.0  \n5                 1              24     1.0  \n...             ...             ...     ...  \n19153             1              42     1.0  \n19154             4              52     1.0  \n19155             4              44     0.0  \n19156             2              97     0.0  \n19157             1             127     0.0  \n\n[18014 rows x 152 columns]",
      "text/html": "<div>\n<style scoped>\n    .dataframe tbody tr th:only-of-type {\n        vertical-align: middle;\n    }\n\n    .dataframe tbody tr th {\n        vertical-align: top;\n    }\n\n    .dataframe thead th {\n        text-align: right;\n    }\n</style>\n<table border=\"1\" class=\"dataframe\">\n  <thead>\n    <tr style=\"text-align: right;\">\n      <th></th>\n      <th>enrollee_id</th>\n      <th>city_city_103</th>\n      <th>city_city_40</th>\n      <th>city_city_21</th>\n      <th>city_city_162</th>\n      <th>city_city_176</th>\n      <th>city_city_160</th>\n      <th>city_city_46</th>\n      <th>city_city_61</th>\n      <th>city_city_114</th>\n      <th>...</th>\n      <th>company_size</th>\n      <th>company_type_Pvt Ltd</th>\n      <th>company_type_Funded Startup</th>\n      <th>company_type_Early Stage Startup</th>\n      <th>company_type_Other</th>\n      <th>company_type_Public Sector</th>\n      <th>company_type_NGO</th>\n      <th>last_new_job</th>\n      <th>training_hours</th>\n      <th>target</th>\n    </tr>\n  </thead>\n  <tbody>\n    <tr>\n      <th>0</th>\n      <td>8949</td>\n      <td>1</td>\n      <td>0</td>\n      <td>0</td>\n      <td>0</td>\n      <td>0</td>\n      <td>0</td>\n      <td>0</td>\n      <td>0</td>\n      <td>0</td>\n      <td>...</td>\n      <td>2</td>\n      <td>1</td>\n      <td>0</td>\n      <td>0</td>\n      <td>0</td>\n      <td>0</td>\n      <td>0</td>\n      <td>1</td>\n      <td>36</td>\n      <td>1.0</td>\n    </tr>\n    <tr>\n      <th>1</th>\n      <td>29725</td>\n      <td>0</td>\n      <td>1</td>\n      <td>0</td>\n      <td>0</td>\n      <td>0</td>\n      <td>0</td>\n      <td>0</td>\n      <td>0</td>\n      <td>0</td>\n      <td>...</td>\n      <td>2</td>\n      <td>1</td>\n      <td>0</td>\n      <td>0</td>\n      <td>0</td>\n      <td>0</td>\n      <td>0</td>\n      <td>5</td>\n      <td>47</td>\n      <td>0.0</td>\n    </tr>\n    <tr>\n      <th>2</th>\n      <td>11561</td>\n      <td>0</td>\n      <td>0</td>\n      <td>1</td>\n      <td>0</td>\n      <td>0</td>\n      <td>0</td>\n      <td>0</td>\n      <td>0</td>\n      <td>0</td>\n      <td>...</td>\n      <td>2</td>\n      <td>1</td>\n      <td>0</td>\n      <td>0</td>\n      <td>0</td>\n      <td>0</td>\n      <td>0</td>\n      <td>0</td>\n      <td>83</td>\n      <td>0.0</td>\n    </tr>\n    <tr>\n      <th>4</th>\n      <td>666</td>\n      <td>0</td>\n      <td>0</td>\n      <td>0</td>\n      <td>1</td>\n      <td>0</td>\n      <td>0</td>\n      <td>0</td>\n      <td>0</td>\n      <td>0</td>\n      <td>...</td>\n      <td>2</td>\n      <td>0</td>\n      <td>1</td>\n      <td>0</td>\n      <td>0</td>\n      <td>0</td>\n      <td>0</td>\n      <td>4</td>\n      <td>8</td>\n      <td>0.0</td>\n    </tr>\n    <tr>\n      <th>5</th>\n      <td>21651</td>\n      <td>0</td>\n      <td>0</td>\n      <td>0</td>\n      <td>0</td>\n      <td>1</td>\n      <td>0</td>\n      <td>0</td>\n      <td>0</td>\n      <td>0</td>\n      <td>...</td>\n      <td>2</td>\n      <td>1</td>\n      <td>0</td>\n      <td>0</td>\n      <td>0</td>\n      <td>0</td>\n      <td>0</td>\n      <td>1</td>\n      <td>24</td>\n      <td>1.0</td>\n    </tr>\n    <tr>\n      <th>...</th>\n      <td>...</td>\n      <td>...</td>\n      <td>...</td>\n      <td>...</td>\n      <td>...</td>\n      <td>...</td>\n      <td>...</td>\n      <td>...</td>\n      <td>...</td>\n      <td>...</td>\n      <td>...</td>\n      <td>...</td>\n      <td>...</td>\n      <td>...</td>\n      <td>...</td>\n      <td>...</td>\n      <td>...</td>\n      <td>...</td>\n      <td>...</td>\n      <td>...</td>\n      <td>...</td>\n    </tr>\n    <tr>\n      <th>19153</th>\n      <td>7386</td>\n      <td>0</td>\n      <td>0</td>\n      <td>0</td>\n      <td>0</td>\n      <td>0</td>\n      <td>0</td>\n      <td>0</td>\n      <td>0</td>\n      <td>0</td>\n      <td>...</td>\n      <td>2</td>\n      <td>1</td>\n      <td>0</td>\n      <td>0</td>\n      <td>0</td>\n      <td>0</td>\n      <td>0</td>\n      <td>1</td>\n      <td>42</td>\n      <td>1.0</td>\n    </tr>\n    <tr>\n      <th>19154</th>\n      <td>31398</td>\n      <td>1</td>\n      <td>0</td>\n      <td>0</td>\n      <td>0</td>\n      <td>0</td>\n      <td>0</td>\n      <td>0</td>\n      <td>0</td>\n      <td>0</td>\n      <td>...</td>\n      <td>2</td>\n      <td>1</td>\n      <td>0</td>\n      <td>0</td>\n      <td>0</td>\n      <td>0</td>\n      <td>0</td>\n      <td>4</td>\n      <td>52</td>\n      <td>1.0</td>\n    </tr>\n    <tr>\n      <th>19155</th>\n      <td>24576</td>\n      <td>1</td>\n      <td>0</td>\n      <td>0</td>\n      <td>0</td>\n      <td>0</td>\n      <td>0</td>\n      <td>0</td>\n      <td>0</td>\n      <td>0</td>\n      <td>...</td>\n      <td>2</td>\n      <td>1</td>\n      <td>0</td>\n      <td>0</td>\n      <td>0</td>\n      <td>0</td>\n      <td>0</td>\n      <td>4</td>\n      <td>44</td>\n      <td>0.0</td>\n    </tr>\n    <tr>\n      <th>19156</th>\n      <td>5756</td>\n      <td>0</td>\n      <td>0</td>\n      <td>0</td>\n      <td>0</td>\n      <td>0</td>\n      <td>0</td>\n      <td>0</td>\n      <td>0</td>\n      <td>0</td>\n      <td>...</td>\n      <td>4</td>\n      <td>1</td>\n      <td>0</td>\n      <td>0</td>\n      <td>0</td>\n      <td>0</td>\n      <td>0</td>\n      <td>2</td>\n      <td>97</td>\n      <td>0.0</td>\n    </tr>\n    <tr>\n      <th>19157</th>\n      <td>23834</td>\n      <td>0</td>\n      <td>0</td>\n      <td>0</td>\n      <td>0</td>\n      <td>0</td>\n      <td>0</td>\n      <td>0</td>\n      <td>0</td>\n      <td>0</td>\n      <td>...</td>\n      <td>2</td>\n      <td>1</td>\n      <td>0</td>\n      <td>0</td>\n      <td>0</td>\n      <td>0</td>\n      <td>0</td>\n      <td>1</td>\n      <td>127</td>\n      <td>0.0</td>\n    </tr>\n  </tbody>\n</table>\n<p>18014 rows × 152 columns</p>\n</div>"
     },
     "execution_count": 33,
     "metadata": {},
     "output_type": "execute_result"
    }
   ],
   "source": [
    "X_hr_encode\n"
   ],
   "metadata": {
    "collapsed": false,
    "pycharm": {
     "name": "#%%\n"
    }
   }
  },
  {
   "cell_type": "code",
   "execution_count": 86,
   "metadata": {},
   "outputs": [],
   "source": [
    "def undersampling(X, y):\n",
    "    l1= len(y[y==1])\n",
    "    l0 = len(y[y==0])\n",
    "\n",
    "    if l0 < l1 :\n",
    "        X_1 = X[X['target'] == 1].drop(index=X[X['target'] == 1][:l1 - l0], axis=0, inplace=True)\n",
    "        X_under = pd.concat([ X[X['target'] == 0], X_1])\n",
    "    else:\n",
    "        X_0 = X[X['target'] == 0].drop(index=X[X['target'] == 0].index[:l0 - l1])\n",
    "        X_under = pd.concat([X_0,  X[X['target'] == 1]])\n",
    "    return X_under, X_under['target']\n",
    "\n",
    "def oversampling(X, y):\n",
    "    l1= len(y[y==1])\n",
    "    l0 = len(y[y==0])\n",
    "    if l0 < l1 :\n",
    "       X_0 = pd.concat([X[X['target'] == 0]]*(l1 // l0))\n",
    "       X_over = pd.concat([X_0, X[X['target'] == 1]])\n",
    "    else:\n",
    "        X_1 = pd.concat([X[X['target'] == 1]]*(l0 // l1))\n",
    "        X_over = pd.concat([X_1, X[X['target'] == 0]])\n",
    "    return X_over, X_over['target']"
   ]
  },
  {
   "cell_type": "code",
   "execution_count": 87,
   "metadata": {},
   "outputs": [
    {
     "name": "stdout",
     "output_type": "stream",
     "text": [
      "8842\n",
      "8842\n",
      "8842\n",
      "8842\n"
     ]
    }
   ],
   "source": [
    "X_hr_under, y_hr_under = undersampling(X_hr_encode, y_hr_fill)\n",
    "print(len(X_hr_under['target'] == 0))\n",
    "print(len(X_hr_under['target'] == 1))\n",
    "\n",
    "X_hr_over, y_hr_over = oversampling(X_hr_encode, y_hr_fill)\n",
    "print(len(X_hr_under['target'] == 0))\n",
    "print(len(X_hr_under['target'] == 1))"
   ]
  },
  {
   "cell_type": "markdown",
   "metadata": {},
   "source": [
    "#### 3. \n",
    "Используйте _SMOTE_ для балансировки датасета."
   ]
  },
  {
   "cell_type": "markdown",
   "metadata": {},
   "source": [
    "Помимо методов _undersampling_ и _oversampling_ существует подход, генерирующий элементы класса-меньшинства, похожие на уже присутствующие в выборке данных. Такой метод называется _Synthetic Minority Oversampling Technique_ (SMOTE). \n",
    "\n",
    "Метод _SMOTE_ , реализованный в библиотеке `imblearn`, генерирует синтетические примеры при помощи __k-nearest neighbor__ алгоритма (подробнее об этом алгоритме будет рассказано на лекции)."
   ]
  },
  {
   "cell_type": "code",
   "execution_count": 88,
   "metadata": {},
   "outputs": [
    {
     "name": "stdout",
     "output_type": "stream",
     "text": [
      "Collecting imbalanced-learn\n",
      "  Downloading imbalanced_learn-0.8.1-py3-none-any.whl (189 kB)\n",
      "Requirement already satisfied: numpy>=1.13.3 in c:\\users\\melom\\anaconda3\\lib\\site-packages (from imbalanced-learn) (1.20.1)\n",
      "Requirement already satisfied: scipy>=0.19.1 in c:\\users\\melom\\anaconda3\\lib\\site-packages (from imbalanced-learn) (1.6.2)\n",
      "Requirement already satisfied: joblib>=0.11 in c:\\users\\melom\\anaconda3\\lib\\site-packages (from imbalanced-learn) (1.0.1)\n",
      "Requirement already satisfied: scikit-learn>=0.24 in c:\\users\\melom\\anaconda3\\lib\\site-packages (from imbalanced-learn) (0.24.1)\n",
      "Requirement already satisfied: threadpoolctl>=2.0.0 in c:\\users\\melom\\anaconda3\\lib\\site-packages (from scikit-learn>=0.24->imbalanced-learn) (2.1.0)\n",
      "Installing collected packages: imbalanced-learn\n",
      "Successfully installed imbalanced-learn-0.8.1\n"
     ]
    }
   ],
   "source": [
    "!pip install -U imbalanced-learn"
   ]
  },
  {
   "cell_type": "code",
   "execution_count": 90,
   "metadata": {},
   "outputs": [],
   "source": [
    "from imblearn.over_sampling import SMOTE\n",
    "\n",
    "smote = SMOTE()\n",
    "X_hr_SMOTE, y_hr_SMOTE = smote.fit_resample(X_hr_encode, y_hr_fill)"
   ]
  },
  {
   "cell_type": "markdown",
   "metadata": {},
   "source": [
    "#### 4.\n",
    "Как изменились распределения признаков при различных тактиках балансирования датасета?"
   ]
  },
  {
   "cell_type": "code",
   "execution_count": 100,
   "metadata": {},
   "outputs": [
    {
     "name": "stdout",
     "output_type": "stream",
     "text": [
      "Init\n",
      "        enrollee_id  city_city_103  city_city_40  city_city_21  city_city_162  \\\n",
      "count  18014.000000   18014.000000  18014.000000  18014.000000   18014.000000   \n",
      "mean   16903.699734       0.232819      0.003497      0.136227       0.006384   \n",
      "std     9665.557267       0.422640      0.059036      0.343039       0.079646   \n",
      "min        1.000000       0.000000      0.000000      0.000000       0.000000   \n",
      "25%     8528.750000       0.000000      0.000000      0.000000       0.000000   \n",
      "50%    17012.500000       0.000000      0.000000      0.000000       0.000000   \n",
      "75%    25326.250000       0.000000      0.000000      0.000000       0.000000   \n",
      "max    33380.000000       1.000000      1.000000      1.000000       1.000000   \n",
      "\n",
      "       city_city_176  city_city_160  city_city_46  city_city_61  \\\n",
      "count   18014.000000   18014.000000  18014.000000  18014.000000   \n",
      "mean        0.001110       0.045354      0.006773      0.010603   \n",
      "std         0.033303       0.208084      0.082018      0.102426   \n",
      "min         0.000000       0.000000      0.000000      0.000000   \n",
      "25%         0.000000       0.000000      0.000000      0.000000   \n",
      "50%         0.000000       0.000000      0.000000      0.000000   \n",
      "75%         0.000000       0.000000      0.000000      0.000000   \n",
      "max         1.000000       1.000000      1.000000      1.000000   \n",
      "\n",
      "       city_city_114  ...  company_size  company_type_Pvt Ltd  \\\n",
      "count   18014.000000  ...  18014.000000          18014.000000   \n",
      "mean        0.069613  ...      2.895581              0.829966   \n",
      "std         0.254500  ...      1.929971              0.375673   \n",
      "min         0.000000  ...      0.000000              0.000000   \n",
      "25%         0.000000  ...      2.000000              1.000000   \n",
      "50%         0.000000  ...      2.000000              1.000000   \n",
      "75%         0.000000  ...      4.000000              1.000000   \n",
      "max         1.000000  ...      7.000000              1.000000   \n",
      "\n",
      "       company_type_Funded Startup  company_type_Early Stage Startup  \\\n",
      "count                 18014.000000                      18014.000000   \n",
      "mean                      0.054125                          0.031198   \n",
      "std                       0.226270                          0.173857   \n",
      "min                       0.000000                          0.000000   \n",
      "25%                       0.000000                          0.000000   \n",
      "50%                       0.000000                          0.000000   \n",
      "75%                       0.000000                          0.000000   \n",
      "max                       1.000000                          1.000000   \n",
      "\n",
      "       company_type_Other  company_type_Public Sector  company_type_NGO  \\\n",
      "count        18014.000000                18014.000000      18014.000000   \n",
      "mean             0.006328                    0.050627          0.027756   \n",
      "std              0.079301                    0.219242          0.164278   \n",
      "min              0.000000                    0.000000          0.000000   \n",
      "25%              0.000000                    0.000000          0.000000   \n",
      "50%              0.000000                    0.000000          0.000000   \n",
      "75%              0.000000                    0.000000          0.000000   \n",
      "max              1.000000                    1.000000          1.000000   \n",
      "\n",
      "       last_new_job  training_hours        target  \n",
      "count  18014.000000    18014.000000  18014.000000  \n",
      "mean       2.026535       65.347896      0.245420  \n",
      "std        1.673468       60.059220      0.430348  \n",
      "min        0.000000        1.000000      0.000000  \n",
      "25%        1.000000       23.000000      0.000000  \n",
      "50%        1.000000       47.000000      0.000000  \n",
      "75%        3.000000       88.000000      0.000000  \n",
      "max        5.000000      336.000000      1.000000  \n",
      "\n",
      "[8 rows x 152 columns]\n",
      "Smote\n",
      "        enrollee_id  city_city_103  city_city_40  city_city_21  city_city_162  \\\n",
      "count  27186.000000   27186.000000  27186.000000  27186.000000   27186.000000   \n",
      "mean   17146.128816       0.173876      0.002317      0.140330       0.004230   \n",
      "std     9610.894878       0.379010      0.048084      0.347335       0.064903   \n",
      "min        1.000000       0.000000      0.000000      0.000000       0.000000   \n",
      "25%     8867.250000       0.000000      0.000000      0.000000       0.000000   \n",
      "50%    17413.500000       0.000000      0.000000      0.000000       0.000000   \n",
      "75%    25422.500000       0.000000      0.000000      0.000000       0.000000   \n",
      "max    33380.000000       1.000000      1.000000      1.000000       1.000000   \n",
      "\n",
      "       city_city_176  city_city_160  city_city_46  city_city_61  \\\n",
      "count   27186.000000   27186.000000  27186.000000  27186.000000   \n",
      "mean        0.000736       0.030861      0.004488      0.007026   \n",
      "std         0.027114       0.172945      0.066840      0.083526   \n",
      "min         0.000000       0.000000      0.000000      0.000000   \n",
      "25%         0.000000       0.000000      0.000000      0.000000   \n",
      "50%         0.000000       0.000000      0.000000      0.000000   \n",
      "75%         0.000000       0.000000      0.000000      0.000000   \n",
      "max         1.000000       1.000000      1.000000      1.000000   \n",
      "\n",
      "       city_city_114  ...  company_size  company_type_Pvt Ltd  \\\n",
      "count   27186.000000  ...  27186.000000          27186.000000   \n",
      "mean        0.046384  ...      2.705768              0.803539   \n",
      "std         0.210320  ...      1.770182              0.397329   \n",
      "min         0.000000  ...      0.000000              0.000000   \n",
      "25%         0.000000  ...      2.000000              1.000000   \n",
      "50%         0.000000  ...      2.000000              1.000000   \n",
      "75%         0.000000  ...      3.000000              1.000000   \n",
      "max         1.000000  ...      7.000000              1.000000   \n",
      "\n",
      "       company_type_Funded Startup  company_type_Early Stage Startup  \\\n",
      "count                 27186.000000                      27186.000000   \n",
      "mean                      0.036305                          0.020893   \n",
      "std                       0.187053                          0.143029   \n",
      "min                       0.000000                          0.000000   \n",
      "25%                       0.000000                          0.000000   \n",
      "50%                       0.000000                          0.000000   \n",
      "75%                       0.000000                          0.000000   \n",
      "max                       1.000000                          1.000000   \n",
      "\n",
      "       company_type_Other  company_type_Public Sector  company_type_NGO  \\\n",
      "count        27186.000000                27186.000000      27186.000000   \n",
      "mean             0.004193                    0.034319          0.018429   \n",
      "std              0.064621                    0.182051          0.134498   \n",
      "min              0.000000                    0.000000          0.000000   \n",
      "25%              0.000000                    0.000000          0.000000   \n",
      "50%              0.000000                    0.000000          0.000000   \n",
      "75%              0.000000                    0.000000          0.000000   \n",
      "max              1.000000                    1.000000          1.000000   \n",
      "\n",
      "       last_new_job  training_hours        target  \n",
      "count  27186.000000    27186.000000  27186.000000  \n",
      "mean       1.824137       63.124586      0.500000  \n",
      "std        1.567865       56.906778      0.500009  \n",
      "min        0.000000        1.000000      0.000000  \n",
      "25%        1.000000       23.000000      0.000000  \n",
      "50%        1.000000       46.000000      0.500000  \n",
      "75%        3.000000       85.000000      1.000000  \n",
      "max        5.000000      336.000000      1.000000  \n",
      "\n",
      "[8 rows x 152 columns]\n",
      "Oversampling\n",
      "        enrollee_id  city_city_103  city_city_40  city_city_21  city_city_162  \\\n",
      "count  26856.000000   26856.000000  26856.000000  26856.000000   26856.000000   \n",
      "mean   17178.681896       0.223190      0.003016      0.199583       0.006665   \n",
      "std     9608.768826       0.416393      0.054837      0.399694       0.081370   \n",
      "min        1.000000       0.000000      0.000000      0.000000       0.000000   \n",
      "25%     8920.000000       0.000000      0.000000      0.000000       0.000000   \n",
      "50%    17459.000000       0.000000      0.000000      0.000000       0.000000   \n",
      "75%    25445.500000       0.000000      0.000000      0.000000       0.000000   \n",
      "max    33380.000000       1.000000      1.000000      1.000000       1.000000   \n",
      "\n",
      "       city_city_176  city_city_160  city_city_46  city_city_61  \\\n",
      "count   26856.000000   26856.000000  26856.000000  26856.000000   \n",
      "mean        0.001192       0.044869      0.007000      0.008378   \n",
      "std         0.034499       0.207020      0.083376      0.091149   \n",
      "min         0.000000       0.000000      0.000000      0.000000   \n",
      "25%         0.000000       0.000000      0.000000      0.000000   \n",
      "50%         0.000000       0.000000      0.000000      0.000000   \n",
      "75%         0.000000       0.000000      0.000000      0.000000   \n",
      "max         1.000000       1.000000      1.000000      1.000000   \n",
      "\n",
      "       city_city_114  ...  company_size  company_type_Pvt Ltd  \\\n",
      "count   26856.000000  ...  26856.000000          26856.000000   \n",
      "mean        0.056077  ...      2.805295              0.843275   \n",
      "std         0.230074  ...      1.862694              0.363548   \n",
      "min         0.000000  ...      0.000000              0.000000   \n",
      "25%         0.000000  ...      2.000000              1.000000   \n",
      "50%         0.000000  ...      2.000000              1.000000   \n",
      "75%         0.000000  ...      3.000000              1.000000   \n",
      "max         1.000000  ...      7.000000              1.000000   \n",
      "\n",
      "       company_type_Funded Startup  company_type_Early Stage Startup  \\\n",
      "count                 26856.000000                      26856.000000   \n",
      "mean                      0.046582                          0.030161   \n",
      "std                       0.210745                          0.171033   \n",
      "min                       0.000000                          0.000000   \n",
      "25%                       0.000000                          0.000000   \n",
      "50%                       0.000000                          0.000000   \n",
      "75%                       0.000000                          0.000000   \n",
      "max                       1.000000                          1.000000   \n",
      "\n",
      "       company_type_Other  company_type_Public Sector  company_type_NGO  \\\n",
      "count        26856.000000                26856.000000      26856.000000   \n",
      "mean             0.006256                    0.048555          0.025171   \n",
      "std              0.078846                    0.214940          0.156648   \n",
      "min              0.000000                    0.000000          0.000000   \n",
      "25%              0.000000                    0.000000          0.000000   \n",
      "50%              0.000000                    0.000000          0.000000   \n",
      "75%              0.000000                    0.000000          0.000000   \n",
      "max              1.000000                    1.000000          1.000000   \n",
      "\n",
      "       last_new_job  training_hours        target  \n",
      "count  26856.000000    26856.000000  26856.000000  \n",
      "mean       1.942806       64.570413      0.493856  \n",
      "std        1.643300       59.129224      0.499972  \n",
      "min        0.000000        1.000000      0.000000  \n",
      "25%        1.000000       23.000000      0.000000  \n",
      "50%        1.000000       47.000000      0.000000  \n",
      "75%        3.000000       88.000000      1.000000  \n",
      "max        5.000000      336.000000      1.000000  \n",
      "\n",
      "[8 rows x 152 columns]\n",
      "Undersampling\n",
      "        enrollee_id  city_city_103  city_city_40  city_city_21  city_city_162  \\\n",
      "count   8842.000000    8842.000000   8842.000000   8842.000000    8842.000000   \n",
      "mean   17205.706062       0.226080      0.002601      0.202443       0.007012   \n",
      "std     9584.768730       0.418315      0.050939      0.401843       0.083448   \n",
      "min        1.000000       0.000000      0.000000      0.000000       0.000000   \n",
      "25%     8926.000000       0.000000      0.000000      0.000000       0.000000   \n",
      "50%    17532.500000       0.000000      0.000000      0.000000       0.000000   \n",
      "75%    25387.000000       0.000000      0.000000      0.000000       0.000000   \n",
      "max    33375.000000       1.000000      1.000000      1.000000       1.000000   \n",
      "\n",
      "       city_city_176  city_city_160  city_city_46  city_city_61  \\\n",
      "count    8842.000000    8842.000000   8842.000000   8842.000000   \n",
      "mean        0.000905       0.046143      0.007351      0.007577   \n",
      "std         0.030068       0.209807      0.085429      0.086723   \n",
      "min         0.000000       0.000000      0.000000      0.000000   \n",
      "25%         0.000000       0.000000      0.000000      0.000000   \n",
      "50%         0.000000       0.000000      0.000000      0.000000   \n",
      "75%         0.000000       0.000000      0.000000      0.000000   \n",
      "max         1.000000       1.000000      1.000000      1.000000   \n",
      "\n",
      "       city_city_114  ...  company_size  company_type_Pvt Ltd  \\\n",
      "count    8842.000000  ...   8842.000000           8842.000000   \n",
      "mean        0.055417  ...      2.798349              0.841325   \n",
      "std         0.228806  ...      1.859365              0.365393   \n",
      "min         0.000000  ...      0.000000              0.000000   \n",
      "25%         0.000000  ...      2.000000              1.000000   \n",
      "50%         0.000000  ...      2.000000              1.000000   \n",
      "75%         0.000000  ...      3.000000              1.000000   \n",
      "max         1.000000  ...      7.000000              1.000000   \n",
      "\n",
      "       company_type_Funded Startup  company_type_Early Stage Startup  \\\n",
      "count                  8842.000000                       8842.000000   \n",
      "mean                      0.046257                          0.032572   \n",
      "std                       0.210052                          0.177523   \n",
      "min                       0.000000                          0.000000   \n",
      "25%                       0.000000                          0.000000   \n",
      "50%                       0.000000                          0.000000   \n",
      "75%                       0.000000                          0.000000   \n",
      "max                       1.000000                          1.000000   \n",
      "\n",
      "       company_type_Other  company_type_Public Sector  company_type_NGO  \\\n",
      "count         8842.000000                 8842.000000       8842.000000   \n",
      "mean             0.006786                    0.048292          0.024768   \n",
      "std              0.082101                    0.214395          0.155427   \n",
      "min              0.000000                    0.000000          0.000000   \n",
      "25%              0.000000                    0.000000          0.000000   \n",
      "50%              0.000000                    0.000000          0.000000   \n",
      "75%              0.000000                    0.000000          0.000000   \n",
      "max              1.000000                    1.000000          1.000000   \n",
      "\n",
      "       last_new_job  training_hours       target  \n",
      "count    8842.00000     8842.000000  8842.000000  \n",
      "mean        1.95691       65.055530     0.500000  \n",
      "std         1.65017       59.633907     0.500028  \n",
      "min         0.00000        1.000000     0.000000  \n",
      "25%         1.00000       23.000000     0.000000  \n",
      "50%         1.00000       47.000000     0.500000  \n",
      "75%         3.00000       88.000000     1.000000  \n",
      "max         5.00000      336.000000     1.000000  \n",
      "\n",
      "[8 rows x 152 columns]\n"
     ]
    }
   ],
   "source": [
    "print(\"Init\")\n",
    "print(X_hr_encode.describe())\n",
    "print(\"Smote\")\n",
    "print(X_hr_SMOTE.describe())\n",
    "print(\"Oversampling\")\n",
    "print(X_hr_over.describe())\n",
    "print(\"Undersampling\")\n",
    "print(X_hr_under.describe())"
   ]
  },
  {
   "cell_type": "markdown",
   "metadata": {},
   "source": [
    "_Ваш ответ_"
   ]
  }
 ],
 "metadata": {
  "kernelspec": {
   "display_name": "Python 3",
   "language": "python",
   "name": "python3"
  },
  "language_info": {
   "codemirror_mode": {
    "name": "ipython",
    "version": 3
   },
   "file_extension": ".py",
   "mimetype": "text/x-python",
   "name": "python",
   "nbconvert_exporter": "python",
   "pygments_lexer": "ipython3",
   "version": "3.8.5"
  }
 },
 "nbformat": 4,
 "nbformat_minor": 4
}